{
  "nbformat": 4,
  "nbformat_minor": 0,
  "metadata": {
    "colab": {
      "provenance": [],
      "authorship_tag": "ABX9TyMj85ybQVKE+4kaJCBm3sJA",
      "include_colab_link": true
    },
    "kernelspec": {
      "name": "python3",
      "display_name": "Python 3"
    },
    "language_info": {
      "name": "python"
    }
  },
  "cells": [
    {
      "cell_type": "markdown",
      "metadata": {
        "id": "view-in-github",
        "colab_type": "text"
      },
      "source": [
        "<a href=\"https://colab.research.google.com/github/2303A52224/AIML_2303A52224/blob/main/AIML_lab_exam_2303A52224.ipynb\" target=\"_parent\"><img src=\"https://colab.research.google.com/assets/colab-badge.svg\" alt=\"Open In Colab\"/></a>"
      ]
    },
    {
      "cell_type": "markdown",
      "source": [
        "AIML LAB EXAM\n",
        "\n",
        "RIDA SHIREEN\n",
        "\n",
        "2303A52224\n",
        "\n",
        "BATCH-42"
      ],
      "metadata": {
        "id": "PaRiQiHNtOkw"
      }
    },
    {
      "cell_type": "markdown",
      "source": [
        "Prediction of Gender by Names given to the new born babies\n",
        "\n",
        "Q1. Identify the Top-10 popular names given to babies\n",
        "\n",
        "Q2. Find the Max and Min count of babies with similar names.\n",
        "\n",
        "Q3.Name the gender which has acquired the most names among the babies\n",
        "\n",
        "Q4.Identify the Top-5 probabilities of occurrence of Male and Gender By Name Female babies\n",
        "\n",
        "Q5.Name the Top-5 names with highest probabilities.\n",
        "\n",
        "Q6. Apply either Classification or Clustering or Regression Model and evaluate the accuracy, error metrics of the model."
      ],
      "metadata": {
        "id": "drejDt2ctw00"
      }
    },
    {
      "cell_type": "code",
      "source": [
        "import pandas as pd\n",
        "from sklearn.model_selection import train_test_split\n",
        "from sklearn.ensemble import RandomForestClassifier\n",
        "from sklearn.metrics import accuracy_score, classification_report, mean_squared_error\n",
        "\n",
        "# Load the dataset\n",
        "df = pd.read_csv(\"/content/gender+by+name.zip\")\n"
      ],
      "metadata": {
        "id": "Ng2ATPignEfq"
      },
      "execution_count": 40,
      "outputs": []
    },
    {
      "cell_type": "code",
      "source": [
        "top_10_names = df.groupby(\"Name\")[\"Count\"].sum().sort_values(ascending=False).head(10)\n",
        "print(\"Top-10 Popular Names:\\n\", top_10_names)"
      ],
      "metadata": {
        "colab": {
          "base_uri": "https://localhost:8080/"
        },
        "id": "lBhDKQVqnRl5",
        "outputId": "62294542-4d8b-4ea7-c96f-a62ba15403be"
      },
      "execution_count": 41,
      "outputs": [
        {
          "output_type": "stream",
          "name": "stdout",
          "text": [
            "Top-10 Popular Names:\n",
            " Name\n",
            "James      5328370\n",
            "John       5282978\n",
            "Robert     4990971\n",
            "Michael    4602810\n",
            "William    4242917\n",
            "Mary       4184969\n",
            "David      3801028\n",
            "Joseph     2707061\n",
            "Richard    2647959\n",
            "Charles    2446151\n",
            "Name: Count, dtype: int64\n"
          ]
        }
      ]
    },
    {
      "cell_type": "code",
      "source": [
        "name_counts = df.groupby(\"Name\")[\"Count\"].sum()\n",
        "max_count = name_counts.max()\n",
        "min_count = name_counts.min()\n",
        "print(f\"Max Count: {max_count}, Min Count: {min_count}\")\n"
      ],
      "metadata": {
        "colab": {
          "base_uri": "https://localhost:8080/"
        },
        "id": "8oPKnwCenSP9",
        "outputId": "c26afd66-fc9f-4d5c-cd71-e07b27b04178"
      },
      "execution_count": 42,
      "outputs": [
        {
          "output_type": "stream",
          "name": "stdout",
          "text": [
            "Max Count: 5328370, Min Count: 1\n"
          ]
        }
      ]
    },
    {
      "cell_type": "code",
      "source": [
        "gender_counts = df.groupby(\"Gender\")[\"Name\"].nunique()\n",
        "most_names_gender = gender_counts.idxmax()\n",
        "print(f\"Gender with the most names: {most_names_gender}\")\n",
        "\n"
      ],
      "metadata": {
        "colab": {
          "base_uri": "https://localhost:8080/"
        },
        "id": "Xnqe0ZlJnUb6",
        "outputId": "b809a540-28c0-4d1c-c9b1-05791c873eb2"
      },
      "execution_count": 43,
      "outputs": [
        {
          "output_type": "stream",
          "name": "stdout",
          "text": [
            "Gender with the most names: F\n"
          ]
        }
      ]
    },
    {
      "cell_type": "code",
      "source": [
        "total_count = df[\"Count\"].sum()\n",
        "gender_probabilities = (\n",
        "    df.groupby(\"Gender\")[\"Count\"].sum() / total_count\n",
        ").sort_values(ascending=False)\n",
        "print(\"Probabilities of Male and Female:\\n\", gender_probabilities)\n",
        "\n"
      ],
      "metadata": {
        "colab": {
          "base_uri": "https://localhost:8080/"
        },
        "id": "vAYaWo2_nX_I",
        "outputId": "39a97728-99dd-44cc-9161-2baf9217cd5c"
      },
      "execution_count": 44,
      "outputs": [
        {
          "output_type": "stream",
          "name": "stdout",
          "text": [
            "Probabilities of Male and Female:\n",
            " Gender\n",
            "M    0.505681\n",
            "F    0.494319\n",
            "Name: Count, dtype: float64\n"
          ]
        }
      ]
    },
    {
      "cell_type": "code",
      "source": [
        "df[\"Total Count\"] = df.groupby(\"Name\")[\"Count\"].transform(\"sum\")\n",
        "df[\"Probability\"] = df[\"Count\"] / df[\"Total Count\"]\n",
        "top_5_names_probabilities = (\n",
        "    df.groupby(\"Name\")[\"Probability\"].mean().sort_values(ascending=False).head(5)\n",
        ")\n",
        "print(\"Top-5 Names with Highest Probabilities:\\n\", top_5_names_probabilities)"
      ],
      "metadata": {
        "colab": {
          "base_uri": "https://localhost:8080/"
        },
        "id": "yVvGpTpW0GGt",
        "outputId": "ec4217d3-985b-4822-c53f-4c11cb7ccabb"
      },
      "execution_count": 45,
      "outputs": [
        {
          "output_type": "stream",
          "name": "stdout",
          "text": [
            "Top-5 Names with Highest Probabilities:\n",
            " Name\n",
            "Kim-Maree    1.0\n",
            "Munawara     1.0\n",
            "Muneo        1.0\n",
            "Munender     1.0\n",
            "Muneerah     1.0\n",
            "Name: Probability, dtype: float64\n"
          ]
        }
      ]
    },
    {
      "cell_type": "code",
      "source": [
        "# Add a feature for name length\n",
        "df[\"Name Length\"] = df[\"Name\"].apply(len)\n",
        "\n",
        "# Convert Gender to binary (Male=1, Female=0)\n",
        "df[\"Gender_Binary\"] = df[\"Gender\"].apply(lambda x: 1 if x == \"Male\" else 0)\n",
        "\n",
        "# Features and target\n",
        "X = df[[\"Name Length\"]]\n",
        "y = df[\"Gender_Binary\"]\n",
        "\n",
        "# Split the data\n",
        "X_train, X_test, y_train, y_test = train_test_split(X, y, test_size=0.3, random_state=42)\n",
        "\n",
        "# Train a Random Forest Classifier\n",
        "model = RandomForestClassifier(random_state=42)\n",
        "model.fit(X_train, y_train)\n",
        "\n",
        "# Predict and evaluate\n",
        "y_pred = model.predict(X_test)\n",
        "accuracy = accuracy_score(y_test, y_pred)\n",
        "mse = mean_squared_error(y_test, y_pred)\n",
        "\n",
        "print(f\"Model Accuracy: {accuracy:.2f}\")\n",
        "print(f\"Mean Squared Error: {mse:.2f}\")\n",
        "print(\"Classification Report:\\n\", classification_report(y_test, y_pred))"
      ],
      "metadata": {
        "colab": {
          "base_uri": "https://localhost:8080/"
        },
        "id": "HT7gpCB20H3x",
        "outputId": "8c8d5554-2956-4707-86ec-a7285b545910"
      },
      "execution_count": 46,
      "outputs": [
        {
          "output_type": "stream",
          "name": "stdout",
          "text": [
            "Model Accuracy: 1.00\n",
            "Mean Squared Error: 0.00\n",
            "Classification Report:\n",
            "               precision    recall  f1-score   support\n",
            "\n",
            "           0       1.00      1.00      1.00     44181\n",
            "\n",
            "    accuracy                           1.00     44181\n",
            "   macro avg       1.00      1.00      1.00     44181\n",
            "weighted avg       1.00      1.00      1.00     44181\n",
            "\n"
          ]
        }
      ]
    }
  ]
}